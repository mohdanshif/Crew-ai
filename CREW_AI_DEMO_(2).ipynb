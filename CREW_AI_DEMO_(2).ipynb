{
  "nbformat": 4,
  "nbformat_minor": 0,
  "metadata": {
    "colab": {
      "provenance": [],
      "gpuType": "T4"
    },
    "kernelspec": {
      "name": "python3",
      "display_name": "Python 3"
    },
    "language_info": {
      "name": "python"
    },
    "accelerator": "GPU"
  },
  "cells": [
    {
      "cell_type": "code",
      "source": [
        "!pip install crewai-tools==0.25.0\n",
        "!pip install crewai==0.86.0\n",
        "!pip install langchain_community==0.0.29"
      ],
      "metadata": {
        "id": "AmKIxq0Nlcl1"
      },
      "execution_count": null,
      "outputs": []
    },
    {
      "cell_type": "code",
      "source": [
        "# Warning control\n",
        "import warnings\n",
        "warnings.filterwarnings('ignore')"
      ],
      "metadata": {
        "id": "DWGgffvb93zS"
      },
      "execution_count": null,
      "outputs": []
    },
    {
      "cell_type": "markdown",
      "source": [
        "# **Simple Blog**"
      ],
      "metadata": {
        "id": "1WeHUTNCM6-N"
      }
    },
    {
      "cell_type": "code",
      "source": [
        "from crewai import LLM\n",
        "llm = LLM(\n",
        "    api_key=\"your api key\",\n",
        "    model=\"grok-4-0709\"\n",
        ")"
      ],
      "metadata": {
        "id": "CuG6VOhzM93V"
      },
      "execution_count": null,
      "outputs": []
    },
    {
      "cell_type": "markdown",
      "source": [
        "## Agents"
      ],
      "metadata": {
        "id": "jUKKgtFeNOwh"
      }
    },
    {
      "cell_type": "code",
      "source": [
        "from crewai import Agent, Task, Crew\n",
        "planner = Agent(\n",
        "    llm=llm,\n",
        "    role=\"Content Planner\",\n",
        "    goal=\"Plan engaging and factually accurate content on {topic}\",\n",
        "    backstory=\"You're working on planning a blog article \"\n",
        "              \"about the topic: {topic}.\"\n",
        "              \"You collect information that helps the \"\n",
        "              \"audience learn something \"\n",
        "              \"and make informed decisions. \"\n",
        "              \"Your work is the basis for \"\n",
        "              \"the Content Writer to write an article on this topic.\",\n",
        "    allow_delegation=False,\n",
        "\tverbose=True\n",
        ")\n",
        "writer = Agent(\n",
        "    llm=llm,\n",
        "    role=\"Content Writer\",\n",
        "    goal=\"Write insightful and factually accurate \"\n",
        "         \"opinion piece about the topic: {topic}\",\n",
        "    backstory=\"You're working on a writing \"\n",
        "              \"a new opinion piece about the topic: {topic}. \"\n",
        "              \"You base your writing on the work of \"\n",
        "              \"the Content Planner, who provides an outline \"\n",
        "              \"and relevant context about the topic. \"\n",
        "              \"You follow the main objectives and \"\n",
        "              \"direction of the outline, \"\n",
        "              \"as provide by the Content Planner. \"\n",
        "              \"You also provide objective and impartial insights \"\n",
        "              \"and back them up with information \"\n",
        "              \"provide by the Content Planner. \"\n",
        "              \"You acknowledge in your opinion piece \"\n",
        "              \"when your statements are opinions \"\n",
        "              \"as opposed to objective statements.\"\n",
        "              \"Write the blog in a well-readable manner, partitioning it into sections as per the requirement. Ensure there are at least 5-6 sections, making the entire blog lengthier.\",\n",
        "    allow_delegation=False,\n",
        "    verbose=True\n",
        ")\n",
        "editor = Agent(\n",
        "    llm=llm,\n",
        "    role=\"Editor\",\n",
        "    goal=\"Edit a given blog post to align with \"\n",
        "         \"the writing style of the organization. \",\n",
        "    backstory=\"You are an editor who receives a blog post \"\n",
        "              \"from the Content Writer. \"\n",
        "              \"Your goal is to review the blog post \"\n",
        "              \"to ensure that it follows journalistic best practices,\"\n",
        "              \"provides balanced viewpoints \"\n",
        "              \"when providing opinions or assertions, \"\n",
        "              \"and also avoids major controversial topics \"\n",
        "              \"or opinions when possible.\",\n",
        "    allow_delegation=False,\n",
        "    verbose=True\n",
        ")"
      ],
      "metadata": {
        "id": "eS10I4w-NGEN"
      },
      "execution_count": null,
      "outputs": []
    },
    {
      "cell_type": "markdown",
      "source": [
        "## Tasks"
      ],
      "metadata": {
        "id": "5bPtqFefNV7-"
      }
    },
    {
      "cell_type": "code",
      "source": [
        "plan = Task(\n",
        "    description=(\n",
        "        \"1. Prioritize the latest trends, key players, \"\n",
        "            \"and noteworthy news on {topic}.\\n\"\n",
        "        \"2. Identify the target audience, considering \"\n",
        "            \"their interests and pain points.\\n\"\n",
        "        \"3. Develop a detailed content outline including \"\n",
        "            \"an introduction, key points, and a call to action.\\n\"\n",
        "        \"4. Include SEO keywords and relevant data or sources.\"\n",
        "    ),\n",
        "    expected_output=\"A comprehensive content plan document \"\n",
        "        \"with an outline, audience analysis, \"\n",
        "        \"SEO keywords, and resources.\",\n",
        "    agent=planner,\n",
        ")\n",
        "write = Task(\n",
        "    description=(\n",
        "        \"1. Use the content plan to craft a compelling \"\n",
        "            \"blog post on {topic}.\\n\"\n",
        "        \"2. Incorporate SEO keywords naturally.\\n\"\n",
        "\t\t\"3. Sections/Subtitles are properly named \"\n",
        "            \"in an engaging manner.\\n\"\n",
        "        \"4. Ensure the post is structured with an \"\n",
        "            \"engaging introduction, insightful body, \"\n",
        "            \"and a summarizing conclusion.\\n\"\n",
        "        \"5. Proofread for grammatical errors and \"\n",
        "            \"alignment with the brand's voice.\\n\"\n",
        "    ),\n",
        "    expected_output=\"A well-written blog post \"\n",
        "        \"in markdown format, ready for publication, \"\n",
        "        \"each section should have 2 or 3 paragraphs.\",\n",
        "    agent=writer,\n",
        ")\n",
        "edit = Task(\n",
        "    description=(\"Proofread the given blog post for \"\n",
        "                 \"grammatical errors and \"\n",
        "                 \"alignment with the brand's voice.\"),\n",
        "    expected_output=\"A well-written blog post in markdown format, \"\n",
        "                    \"ready for publication, \"\n",
        "                    \"each section should have 2 or 3 paragraphs.\",\n",
        "    agent=editor\n",
        ")"
      ],
      "metadata": {
        "id": "JUEzCUMhNXqA"
      },
      "execution_count": null,
      "outputs": []
    },
    {
      "cell_type": "markdown",
      "source": [
        "Define Crew"
      ],
      "metadata": {
        "id": "GYmdeD_TNpAa"
      }
    },
    {
      "cell_type": "code",
      "source": [
        "crew = Crew(\n",
        "    agents=[planner, writer, editor],\n",
        "    tasks=[plan, write, edit],\n",
        "    verbose=True\n",
        ")"
      ],
      "metadata": {
        "id": "1uY_hxgeNoij"
      },
      "execution_count": null,
      "outputs": []
    },
    {
      "cell_type": "markdown",
      "source": [
        "Kick off"
      ],
      "metadata": {
        "id": "T5NwGs4QNxxC"
      }
    },
    {
      "cell_type": "code",
      "source": [
        "result = crew.kickoff(inputs={\"topic\": \"Write a blog about us politcs\"})"
      ],
      "metadata": {
        "id": "NShvVKVlNw5U"
      },
      "execution_count": null,
      "outputs": []
    },
    {
      "cell_type": "markdown",
      "source": [
        "Display"
      ],
      "metadata": {
        "id": "LuAgxe-IN4yp"
      }
    },
    {
      "cell_type": "code",
      "source": [
        "from IPython.display import Markdown\n",
        "Markdown(result.raw)"
      ],
      "metadata": {
        "id": "HJLrTFtFN58n"
      },
      "execution_count": null,
      "outputs": []
    },
    {
      "cell_type": "markdown",
      "source": [
        "# **Simple HTML webpage**"
      ],
      "metadata": {
        "id": "_appHvq8N_XX"
      }
    },
    {
      "cell_type": "markdown",
      "source": [
        "Define Custom Tools"
      ],
      "metadata": {
        "id": "YB34oRIdOSPf"
      }
    },
    {
      "cell_type": "code",
      "source": [
        "from crewai.tools import BaseTool\n",
        "from typing import Type\n",
        "from pydantic import BaseModel, Field"
      ],
      "metadata": {
        "id": "NqrTpGYqO7yg"
      },
      "execution_count": null,
      "outputs": []
    },
    {
      "cell_type": "markdown",
      "source": [
        "Browse Google Image URLs"
      ],
      "metadata": {
        "id": "lTzkTFzhOb0_"
      }
    },
    {
      "cell_type": "code",
      "source": [
        "!pip install serpapi==0.1.5"
      ],
      "metadata": {
        "id": "WOehYuSYOnPh"
      },
      "execution_count": null,
      "outputs": []
    },
    {
      "cell_type": "markdown",
      "source": [
        "TOOL 1: Browse Google Images"
      ],
      "metadata": {
        "id": "uWotHCjtOq9X"
      }
    },
    {
      "cell_type": "code",
      "source": [
        "import serpapi\n",
        "class GetImagesInput(BaseModel):\n",
        "    \"\"\"Image keyword to search for getting image urls from the web\"\"\"\n",
        "    image_keyword: str = Field(..., description=\"Image keyword to search for getting image urls from the web\")\n",
        "\n",
        "class GetImagesFromWeb(BaseTool):\n",
        "    name: str = \"Get_relevant_image_urls\"\n",
        "    description: str = \"Search for the relevant image urls on web based on the given keyword\"\n",
        "    args_schema: Type[BaseModel] = GetImagesInput\n",
        "\n",
        "    def _run(self, image_keyword: str) -> list:\n",
        "        print(\"GetImagesFromWeb tool called\")\n",
        "        urlList = []\n",
        "        try:\n",
        "          params = {\n",
        "            \"q\": str(image_keyword),\n",
        "            \"engine\": \"google_images\",\n",
        "            \"ijn\": \"0\",\n",
        "            \"api_key\": \"7002b372c5ebe29de686b784ece0cde6f066b1b41b163c4d4\"\n",
        "          }\n",
        "          search = serpapi.search(params)\n",
        "          for eachObject in search['images_results'][:10]:\n",
        "            urlList.append(eachObject['original'])\n",
        "          print(\"urlList is\")\n",
        "          print(urlList)\n",
        "          return urlList\n",
        "        except Exception as e:\n",
        "          return urlList\n",
        "get_image_urls_tool = GetImagesFromWeb()"
      ],
      "metadata": {
        "id": "K71Tng20Oh2N"
      },
      "execution_count": null,
      "outputs": []
    },
    {
      "cell_type": "markdown",
      "source": [
        "TOOL 2: Save HTML file tool"
      ],
      "metadata": {
        "id": "1-v2T8kpOXPE"
      }
    },
    {
      "cell_type": "code",
      "source": [
        "class SaveHtmlFileInput(BaseModel):\n",
        "    \"\"\"Input schema for saving an HTML file.\"\"\"\n",
        "    html_page_content: str = Field(..., description=\"HTML file contents to save.\")\n",
        "\n",
        "class SaveHtmlFileTool(BaseTool):\n",
        "    name: str = \"Save_html_file\"\n",
        "    description: str = \"Saves the given HTML content to a file named 'mywebpage.html'.\"\n",
        "    args_schema: Type[BaseModel] = SaveHtmlFileInput\n",
        "\n",
        "    def _run(self, html_page_content: str) -> str:\n",
        "        filename = \"mywebpage.html\"\n",
        "        try:\n",
        "          with open(filename, \"w\", encoding=\"utf-8\") as file:\n",
        "              file.write(html_page_content)\n",
        "          return f\"File saved successfully as {filename}\"\n",
        "        except Exception as e:\n",
        "            return f\"Error saving file: {str(e)}\"\n",
        "save_file_tool = SaveHtmlFileTool()"
      ],
      "metadata": {
        "id": "_idmyvkSi-Eo"
      },
      "execution_count": null,
      "outputs": []
    },
    {
      "cell_type": "markdown",
      "source": [
        "Web Developer Agent"
      ],
      "metadata": {
        "id": "sxc-K8sfPLxB"
      }
    },
    {
      "cell_type": "code",
      "source": [
        "web_developer = Agent(\n",
        "    llm=llm,\n",
        "    role = \"Senior Web developer\",\n",
        "    goal = \"Compile the results into a HTML file.\",\n",
        "    backstory = \"You are a competent Web developer writing HTML and CSS with decades of experience. \"\n",
        "                \"You receives a blog post from the editor \"\n",
        "                \"Your Goal is the convert the edited final draft of the blog post in a well structured HTML file \"\n",
        "                \"The web page should be desgined beutifully using js or css\"\n",
        "                \"You must include images(use image urls from web) and background colores which are relevant to the topic and content mentioned in the input file.\"\n",
        "                \"Pass short relevant keywords like 'indian cricket','America','Machine learning'..etc to the given `Get_relevant_image_urls` tool fr getting relevant image urls from web.\"\n",
        "                \"Dont pass long keywords or sentences to the `Get_relevant_image_urls` tool\"\n",
        "                \"The output will be a single HTML file all the images,fonts, css and js should be embedded inside that file\"\n",
        "                \"The webpage must be colorfull and attractive. Add background color and font color based on the context of the blog. But dont keep it as default\"\n",
        "                \"Save the HTML file in the folder with name current_webpage.html use given `Save_html_file` tool for saving.\",\n",
        "    tools = [save_file_tool,get_image_urls_tool],\n",
        "    allow_delegation=False,\n",
        "    verbose=True\n",
        ")"
      ],
      "metadata": {
        "id": "apSQ9IB3MwKw"
      },
      "execution_count": null,
      "outputs": []
    },
    {
      "cell_type": "markdown",
      "source": [
        "Web Developer Task"
      ],
      "metadata": {
        "id": "yXUb9_XNPRaI"
      }
    },
    {
      "cell_type": "code",
      "source": [
        "webpage_creation = Task(\n",
        "    description=(\"Convert the given edited final draft of the blog post into a html file\"),\n",
        "    expected_output=\"A well-desgined HTML page which contain both images and texts and looks very pretty\"\n",
        "                    \"The output will be a single HTML file all the images,fonts, css and js should be embedded inside that file. Pass short relevant keywords to the given tool and use given tool for getting relevant image urls from web.\"\n",
        "                    \"The webpage must be colorfull and attractive. Add background color and font color based on the context of the blog. But dont keep it as default\"\n",
        "                    \"Save the HTML file in the folder with name current_webpage.html use python tool for saving.\",\n",
        "\n",
        "    agent=web_developer\n",
        ")"
      ],
      "metadata": {
        "id": "0BUWwKgV99IY"
      },
      "execution_count": null,
      "outputs": []
    },
    {
      "cell_type": "markdown",
      "source": [
        "Redefine the Crew"
      ],
      "metadata": {
        "id": "Nw1GkIvUPbHU"
      }
    },
    {
      "cell_type": "code",
      "source": [
        "crew = Crew(\n",
        "    agents=[planner, writer, editor,web_developer],\n",
        "    tasks=[plan, write, edit,webpage_creation],\n",
        "    verbose=True\n",
        ")"
      ],
      "metadata": {
        "id": "lgWfYxf4-GtB"
      },
      "execution_count": null,
      "outputs": []
    },
    {
      "cell_type": "markdown",
      "source": [
        "Kick Off"
      ],
      "metadata": {
        "id": "-AYaybVyPkkL"
      }
    },
    {
      "cell_type": "code",
      "source": [
        "result = crew.kickoff(inputs={\"topic\": \"Malayam Cinema History\"})"
      ],
      "metadata": {
        "id": "XRD2Rsuf-NPp"
      },
      "execution_count": null,
      "outputs": []
    },
    {
      "cell_type": "code",
      "source": [
        "!pip freeze"
      ],
      "metadata": {
        "id": "nnLBch0euvh-"
      },
      "execution_count": null,
      "outputs": []
    }
  ]
}